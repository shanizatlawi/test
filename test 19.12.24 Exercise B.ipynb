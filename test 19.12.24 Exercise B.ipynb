{
 "cells": [
  {
   "cell_type": "code",
   "execution_count": 2,
   "id": "438f381e",
   "metadata": {},
   "outputs": [
    {
     "name": "stdout",
     "output_type": "stream",
     "text": [
      "   cust_id   timestamp  residence  grade\n",
      "0        1  2024-01-01   Tel Aviv    8.0\n",
      "1        2  2024-01-02  Jerusalem    NaN\n",
      "2        1  2024-01-03   Tel Aviv    8.0\n",
      "3        3  2024-01-04       None    7.0\n",
      "4        2  2024-01-05  Jerusalem    NaN\n"
     ]
    }
   ],
   "source": [
    "import pandas as pd\n",
    "\n",
    "# Input Data\n",
    "data = [\n",
    "    {\"cust_id\": 1, \"timestamp\": \"2024-01-01\", \"residence\": \"Tel Aviv\", \"grade\": 8},\n",
    "    {\"cust_id\": 2, \"timestamp\": \"2024-01-02\", \"residence\": \"Jerusalem\", \"grade\": None},\n",
    "    {\"cust_id\": 1, \"timestamp\": \"2024-01-03\", \"residence\": \"Tel Aviv\", \"grade\": 8},\n",
    "    {\"cust_id\": 3, \"timestamp\": \"2024-01-04\", \"residence\": None, \"grade\": 7},\n",
    "    {\"cust_id\": 2, \"timestamp\": \"2024-01-05\", \"residence\": \"Jerusalem\", \"grade\": None}\n",
    "]\n",
    "\n",
    "# Create DataFrame\n",
    "df = pd.DataFrame(data)\n",
    "\n",
    "print(df)\n"
   ]
  },
  {
   "cell_type": "code",
   "execution_count": 3,
   "id": "92b3f699",
   "metadata": {
    "scrolled": true
   },
   "outputs": [
    {
     "name": "stdout",
     "output_type": "stream",
     "text": [
      "   cust_id   timestamp  residence  grade\n",
      "0        1  2024-01-01   Tel Aviv    8.0\n",
      "1        2  2024-01-02  Jerusalem    NaN\n",
      "3        3  2024-01-04       None    7.0\n"
     ]
    }
   ],
   "source": [
    "# Remove duplicates based on 'cust_id' and keep the first occurrence\n",
    "df_no_duplicates = df.drop_duplicates(subset='cust_id', keep='first')\n",
    "print(df_no_duplicates)\n",
    "\n"
   ]
  },
  {
   "cell_type": "code",
   "execution_count": 4,
   "id": "347a7771",
   "metadata": {},
   "outputs": [
    {
     "name": "stdout",
     "output_type": "stream",
     "text": [
      "   cust_id   timestamp residence  grade\n",
      "0        1  2024-01-01  Tel Aviv    8.0\n",
      "2        1  2024-01-03  Tel Aviv    8.0\n"
     ]
    }
   ],
   "source": [
    "# Remove rows with None in any column\n",
    "df_no_none = df.dropna()\n",
    "print(df_no_none)\n"
   ]
  },
  {
   "cell_type": "code",
   "execution_count": 10,
   "id": "9054f059",
   "metadata": {
    "scrolled": true
   },
   "outputs": [
    {
     "name": "stdout",
     "output_type": "stream",
     "text": [
      "   cust_id   timestamp  residence  grade\n",
      "0        1  2024-01-01   Tel Aviv    8.0\n",
      "1        2  2024-01-02  Jerusalem    NaN\n",
      "2        1  2024-01-03   Tel Aviv    8.0\n",
      "3        3  2024-01-04       None    7.0\n",
      "4        2  2024-01-05  Jerusalem    NaN\n"
     ]
    }
   ],
   "source": [
    "# Calculate the average grade for each city\n",
    "city_avg = df.groupby('residence')['grade'].mean()\n",
    "\n",
    "\n",
    "# Function to fill None grades with the average of the city\n",
    "def fill_grade(row):\n",
    "    if pd.isna(row['grade']) and row['residence'] in city_avg:\n",
    "        return city_avg[row['residence']]\n",
    "    else:\n",
    "        return row['grade']\n",
    "\n",
    "# Apply the function to fill None grades with the city's average\n",
    "df['grade'] = df.apply(fill_grade, axis=1)\n",
    "print(df)\n"
   ]
  },
  {
   "cell_type": "code",
   "execution_count": null,
   "id": "66c1a59e",
   "metadata": {},
   "outputs": [],
   "source": []
  }
 ],
 "metadata": {
  "kernelspec": {
   "display_name": "Python 3 (ipykernel)",
   "language": "python",
   "name": "python3"
  },
  "language_info": {
   "codemirror_mode": {
    "name": "ipython",
    "version": 3
   },
   "file_extension": ".py",
   "mimetype": "text/x-python",
   "name": "python",
   "nbconvert_exporter": "python",
   "pygments_lexer": "ipython3",
   "version": "3.11.5"
  }
 },
 "nbformat": 4,
 "nbformat_minor": 5
}
