{
 "cells": [
  {
   "cell_type": "code",
   "execution_count": 10,
   "id": "5a81430d",
   "metadata": {},
   "outputs": [
    {
     "name": "stdout",
     "output_type": "stream",
     "text": [
      "Index(['id', 'item_name', 'item_category', 'item_price', 'stock_quantity',\n",
      "       'item_brand', 'item_availability'],\n",
      "      dtype='object')\n",
      "Index(['id', 'order_id', 'item_id', 'quantity'], dtype='object')\n",
      "Index(['id', 'first_name', 'last_name', 'gender', 'age', 'nationallity',\n",
      "       'joining_date', 'phone_number', 'email'],\n",
      "      dtype='object')\n",
      "Index(['order_id', 'customer_id', 'delivery_address', 'delivery_days',\n",
      "       'order_date', 'payment_method', 'order_source'],\n",
      "      dtype='object')\n"
     ]
    }
   ],
   "source": [
    "import pandas as pd\n",
    "\n",
    "# Loading the data\n",
    "orders_df = pd.read_csv('C:/Users/97254/TEST_CSV/orders.csv')\n",
    "order_item_df = pd.read_csv('C:/Users/97254/TEST_CSV/order_item.csv')\n",
    "items_df = pd.read_csv('C:/Users/97254/TEST_CSV/items.csv')\n",
    "customers_df = pd.read_csv('C:/Users/97254/TEST_CSV/customers.csv')\n",
    "\n",
    "# Checking the column names in the tables\n",
    "print(items_df.columns)  # Check the column names in the items DataFrame\n",
    "print(order_item_df.columns)  # Check the column names in the order_item DataFrame\n",
    "print(customers_df.columns)  # Check the column names in the customers DataFrame\n",
    "print(orders_df.columns)  # Check the column names in the orders DataFrame\n",
    "\n"
   ]
  },
  {
   "cell_type": "code",
   "execution_count": 11,
   "id": "4fa4a5b4",
   "metadata": {},
   "outputs": [
    {
     "name": "stdout",
     "output_type": "stream",
     "text": [
      "Average price of item: 2222.0825999999997\n"
     ]
    }
   ],
   "source": [
    "# 1. Calculate the average price of an item\n",
    "average_price = items_df['item_price'].mean()\n",
    "print(f\"Average price of item: {average_price}\")\n"
   ]
  },
  {
   "cell_type": "code",
   "execution_count": 20,
   "id": "e5a2a06b",
   "metadata": {},
   "outputs": [
    {
     "name": "stdout",
     "output_type": "stream",
     "text": [
      "Customer with most purchases: 138.0 (Total: 45)\n"
     ]
    }
   ],
   "source": [
    "# 2. Merge order_item_df with orders_df to get the 'customer_id'\n",
    "# Assuming the 'orders_df' has a column 'customer_id' which links to customers\n",
    "order_item_df = order_item_df.merge(orders_df[['order_id', 'customer_id']], on='order_id', how='left')\n",
    "\n",
    "# Total quantity purchased by each customer\n",
    "total_purchases_per_customer = order_item_df.groupby('customer_id')['quantity'].sum()\n",
    "\n",
    "# The customer with the most purchases\n",
    "top_customer = total_purchases_per_customer.idxmax()\n",
    "top_customer_quantity = total_purchases_per_customer.max()\n",
    "print(f\"Customer with most purchases: {top_customer} (Total: {top_customer_quantity})\")"
   ]
  },
  {
   "cell_type": "code",
   "execution_count": null,
   "id": "1bfe379a",
   "metadata": {},
   "outputs": [],
   "source": []
  }
 ],
 "metadata": {
  "kernelspec": {
   "display_name": "Python 3 (ipykernel)",
   "language": "python",
   "name": "python3"
  },
  "language_info": {
   "codemirror_mode": {
    "name": "ipython",
    "version": 3
   },
   "file_extension": ".py",
   "mimetype": "text/x-python",
   "name": "python",
   "nbconvert_exporter": "python",
   "pygments_lexer": "ipython3",
   "version": "3.11.5"
  }
 },
 "nbformat": 4,
 "nbformat_minor": 5
}
